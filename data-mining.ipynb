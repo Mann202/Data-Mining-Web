{
 "cells": [
  {
   "cell_type": "code",
   "execution_count": 11,
   "metadata": {},
   "outputs": [
    {
     "name": "stdout",
     "output_type": "stream",
     "text": [
      "Defaulting to user installation because normal site-packages is not writeable\n",
      "Requirement already satisfied: streamlit in /Users/man/Library/Python/3.9/lib/python/site-packages (1.35.0)\n",
      "Requirement already satisfied: typing-extensions<5,>=4.3.0 in /Users/man/Library/Python/3.9/lib/python/site-packages (from streamlit) (4.12.0)\n",
      "Requirement already satisfied: pydeck<1,>=0.8.0b4 in /Users/man/Library/Python/3.9/lib/python/site-packages (from streamlit) (0.9.1)\n",
      "Requirement already satisfied: click<9,>=7.0 in /Users/man/Library/Python/3.9/lib/python/site-packages (from streamlit) (8.1.7)\n",
      "Requirement already satisfied: toml<2,>=0.10.1 in /Users/man/Library/Python/3.9/lib/python/site-packages (from streamlit) (0.10.2)\n",
      "Requirement already satisfied: protobuf<5,>=3.20 in /Users/man/Library/Python/3.9/lib/python/site-packages (from streamlit) (4.25.3)\n",
      "Requirement already satisfied: tenacity<9,>=8.1.0 in /Users/man/Library/Python/3.9/lib/python/site-packages (from streamlit) (8.3.0)\n",
      "Requirement already satisfied: packaging<25,>=16.8 in /Users/man/Library/Python/3.9/lib/python/site-packages (from streamlit) (24.0)\n",
      "Requirement already satisfied: cachetools<6,>=4.0 in /Users/man/Library/Python/3.9/lib/python/site-packages (from streamlit) (5.3.3)\n",
      "Requirement already satisfied: numpy<2,>=1.19.3 in /Users/man/Library/Python/3.9/lib/python/site-packages (from streamlit) (1.26.4)\n",
      "Requirement already satisfied: gitpython!=3.1.19,<4,>=3.0.7 in /Users/man/Library/Python/3.9/lib/python/site-packages (from streamlit) (3.1.43)\n",
      "Requirement already satisfied: pandas<3,>=1.3.0 in /Users/man/Library/Python/3.9/lib/python/site-packages (from streamlit) (2.2.2)\n",
      "Requirement already satisfied: pyarrow>=7.0 in /Users/man/Library/Python/3.9/lib/python/site-packages (from streamlit) (16.1.0)\n",
      "Requirement already satisfied: pillow<11,>=7.1.0 in /Users/man/Library/Python/3.9/lib/python/site-packages (from streamlit) (10.3.0)\n",
      "Requirement already satisfied: rich<14,>=10.14.0 in /Users/man/Library/Python/3.9/lib/python/site-packages (from streamlit) (13.7.1)\n",
      "Requirement already satisfied: requests<3,>=2.27 in /Users/man/Library/Python/3.9/lib/python/site-packages (from streamlit) (2.32.3)\n",
      "Requirement already satisfied: altair<6,>=4.0 in /Users/man/Library/Python/3.9/lib/python/site-packages (from streamlit) (5.3.0)\n",
      "Requirement already satisfied: tornado<7,>=6.0.3 in /Users/man/Library/Python/3.9/lib/python/site-packages (from streamlit) (6.4)\n",
      "Requirement already satisfied: blinker<2,>=1.0.0 in /Users/man/Library/Python/3.9/lib/python/site-packages (from streamlit) (1.8.2)\n",
      "Requirement already satisfied: jinja2 in /Users/man/Library/Python/3.9/lib/python/site-packages (from altair<6,>=4.0->streamlit) (3.1.4)\n",
      "Requirement already satisfied: toolz in /Users/man/Library/Python/3.9/lib/python/site-packages (from altair<6,>=4.0->streamlit) (0.12.1)\n",
      "Requirement already satisfied: jsonschema>=3.0 in /Users/man/Library/Python/3.9/lib/python/site-packages (from altair<6,>=4.0->streamlit) (4.22.0)\n",
      "Requirement already satisfied: gitdb<5,>=4.0.1 in /Users/man/Library/Python/3.9/lib/python/site-packages (from gitpython!=3.1.19,<4,>=3.0.7->streamlit) (4.0.11)\n",
      "Requirement already satisfied: smmap<6,>=3.0.1 in /Users/man/Library/Python/3.9/lib/python/site-packages (from gitdb<5,>=4.0.1->gitpython!=3.1.19,<4,>=3.0.7->streamlit) (5.0.1)\n",
      "Requirement already satisfied: attrs>=22.2.0 in /Users/man/Library/Python/3.9/lib/python/site-packages (from jsonschema>=3.0->altair<6,>=4.0->streamlit) (23.2.0)\n",
      "Requirement already satisfied: referencing>=0.28.4 in /Users/man/Library/Python/3.9/lib/python/site-packages (from jsonschema>=3.0->altair<6,>=4.0->streamlit) (0.35.1)\n",
      "Requirement already satisfied: rpds-py>=0.7.1 in /Users/man/Library/Python/3.9/lib/python/site-packages (from jsonschema>=3.0->altair<6,>=4.0->streamlit) (0.18.1)\n",
      "Requirement already satisfied: jsonschema-specifications>=2023.03.6 in /Users/man/Library/Python/3.9/lib/python/site-packages (from jsonschema>=3.0->altair<6,>=4.0->streamlit) (2023.12.1)\n",
      "Requirement already satisfied: tzdata>=2022.7 in /Users/man/Library/Python/3.9/lib/python/site-packages (from pandas<3,>=1.3.0->streamlit) (2024.1)\n",
      "Requirement already satisfied: pytz>=2020.1 in /Users/man/Library/Python/3.9/lib/python/site-packages (from pandas<3,>=1.3.0->streamlit) (2024.1)\n",
      "Requirement already satisfied: python-dateutil>=2.8.2 in /Users/man/Library/Python/3.9/lib/python/site-packages (from pandas<3,>=1.3.0->streamlit) (2.9.0.post0)\n",
      "Requirement already satisfied: MarkupSafe>=2.0 in /Users/man/Library/Python/3.9/lib/python/site-packages (from jinja2->altair<6,>=4.0->streamlit) (2.1.5)\n",
      "Requirement already satisfied: six>=1.5 in /Applications/Xcode.app/Contents/Developer/Library/Frameworks/Python3.framework/Versions/3.9/lib/python3.9/site-packages (from python-dateutil>=2.8.2->pandas<3,>=1.3.0->streamlit) (1.15.0)\n",
      "Requirement already satisfied: idna<4,>=2.5 in /Users/man/Library/Python/3.9/lib/python/site-packages (from requests<3,>=2.27->streamlit) (3.7)\n",
      "Requirement already satisfied: charset-normalizer<4,>=2 in /Users/man/Library/Python/3.9/lib/python/site-packages (from requests<3,>=2.27->streamlit) (3.3.2)\n",
      "Requirement already satisfied: urllib3<3,>=1.21.1 in /Users/man/Library/Python/3.9/lib/python/site-packages (from requests<3,>=2.27->streamlit) (2.2.1)\n",
      "Requirement already satisfied: certifi>=2017.4.17 in /Users/man/Library/Python/3.9/lib/python/site-packages (from requests<3,>=2.27->streamlit) (2024.2.2)\n",
      "Requirement already satisfied: pygments<3.0.0,>=2.13.0 in /Users/man/Library/Python/3.9/lib/python/site-packages (from rich<14,>=10.14.0->streamlit) (2.18.0)\n",
      "Requirement already satisfied: markdown-it-py>=2.2.0 in /Users/man/Library/Python/3.9/lib/python/site-packages (from rich<14,>=10.14.0->streamlit) (3.0.0)\n",
      "Requirement already satisfied: mdurl~=0.1 in /Users/man/Library/Python/3.9/lib/python/site-packages (from markdown-it-py>=2.2.0->rich<14,>=10.14.0->streamlit) (0.1.2)\n",
      "\u001b[33mWARNING: You are using pip version 21.2.4; however, version 24.0 is available.\n",
      "You should consider upgrading via the '/Applications/Xcode.app/Contents/Developer/usr/bin/python3 -m pip install --upgrade pip' command.\u001b[0m\n",
      "Note: you may need to restart the kernel to use updated packages.\n"
     ]
    }
   ],
   "source": [
    "%pip install streamlit"
   ]
  },
  {
   "cell_type": "code",
   "execution_count": 8,
   "metadata": {},
   "outputs": [
    {
     "name": "stdout",
     "output_type": "stream",
     "text": [
      "zsh:cd:1: not a directory: /Users/man/Documents/GitHub/Data-Mining-Web/main.py\n"
     ]
    }
   ],
   "source": [
    "!cd /Users/man/Documents/GitHub/Data-Mining-Web/main.py"
   ]
  },
  {
   "cell_type": "code",
   "execution_count": 11,
   "metadata": {},
   "outputs": [
    {
     "name": "stdout",
     "output_type": "stream",
     "text": [
      "\n",
      "      👋 \u001b[1mWelcome to Streamlit!\u001b[0m\n",
      "\n",
      "      If you’d like to receive helpful onboarding emails, news, offers, promotions,\n",
      "      and the occasional swag, please enter your email address below. Otherwise,\n",
      "      leave this field blank.\n",
      "\n",
      "      \u001b[34mEmail: \u001b[0m "
     ]
    }
   ],
   "source": [
    "!streamlit run main.py"
   ]
  }
 ],
 "metadata": {
  "kernelspec": {
   "display_name": "Python 3",
   "language": "python",
   "name": "python3"
  },
  "language_info": {
   "codemirror_mode": {
    "name": "ipython",
    "version": 3
   },
   "file_extension": ".py",
   "mimetype": "text/x-python",
   "name": "python",
   "nbconvert_exporter": "python",
   "pygments_lexer": "ipython3",
   "version": "3.9.6"
  }
 },
 "nbformat": 4,
 "nbformat_minor": 2
}
